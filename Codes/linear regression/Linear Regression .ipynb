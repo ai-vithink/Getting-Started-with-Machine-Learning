{
 "cells": [
  {
   "cell_type": "markdown",
   "metadata": {},
   "source": [
    "# Linear  Regression\n",
    "In linear regression we compute $ h(\\theta)=\\theta_0+\\theta_1 X_1 $ which is called forward pass. This is done in order to know the predicted value of labels. We initialize parameters with some values $ \\theta_0=1 $, $\\theta_1=1 $. We define a square error loss function for linear regression $ J(\\theta)= 1/2\\sum_{i=1}^{m} (h_\\theta(x^i)-y^i)^2 $ and minimize it through $ \\frac{\\partial j(\\theta)}{\\partial \\theta_j)} =((h_\\theta(x)-y)x_j) $ and update new values of parameters using gradient descent $  \\theta_j=\\theta_j+\\alpha(y^i-h_\\theta(x))(x_j)^i $\n",
    "\n",
    "\n",
    "\n",
    "Note: $\\theta_0$ is bias and $\\theta_1$ is weight."
   ]
  },
  {
   "cell_type": "code",
   "execution_count": 9,
   "metadata": {},
   "outputs": [],
   "source": [
    "import numpy as np\n",
    "import pandas as pd\n",
    "import matplotlib.pyplot as plt\n"
   ]
  },
  {
   "cell_type": "code",
   "execution_count": 10,
   "metadata": {},
   "outputs": [
    {
     "name": "stdout",
     "output_type": "stream",
     "text": [
      "*** No CODEPAGE record, no encoding_override: will use 'ascii'\n"
     ]
    },
    {
     "data": {
      "image/png": "[encoded data removed]",
      "text/plain": [
       "<Figure size 432x288 with 1 Axes>"
      ]
     },
     "metadata": {},
     "output_type": "display_data"
    }
   ],
   "source": [
    "#Load Dataset \n",
    "df=pd.read_excel('D:/VIThink/Getting Started with Machine Learning/Data/fire_theft.xls')\n",
    "X_train,Y_train=np.array(df['X']),np.array(df['Y'])#X as fires per 1000 housing units Y_train as thefts per 1000 populatio\n",
    "#plot data points\n",
    "plt.scatter(X_train,Y_train)\n",
    "plt.xlabel('Fire', fontsize=18)\n",
    "plt.ylabel('Thefts', fontsize=18)\n",
    "plt.show()\n",
    "\n"
   ]
  },
  {
   "cell_type": "code",
   "execution_count": 11,
   "metadata": {},
   "outputs": [],
   "source": [
    "# Forward pass \n",
    "def forward(theta_0,X,theta_1):\n",
    "    h_theta=theta_0+theta_1*X\n",
    "    return h_theta"
   ]
  },
  {
   "cell_type": "code",
   "execution_count": 18,
   "metadata": {},
   "outputs": [],
   "source": [
    "# initialize parameters \n",
    "theta_1, theta_0 = 0, 1\n",
    "cost=0\n",
    "alpha=0.1"
   ]
  },
  {
   "cell_type": "code",
   "execution_count": 19,
   "metadata": {},
   "outputs": [],
   "source": [
    "# Function to optimize loss function and return updated weights and loss\n",
    "def optimize(X_train,Y_train,theta_1,alpha,theta_0,cost):\n",
    "    loss_all=[]\n",
    "    for i in range(0,len(X_train)):\n",
    "        #Update theta\n",
    "        new_theta_1=theta_1+alpha*(Y_train[i]-forward(theta_0,X_train[i],theta_1))\n",
    "       \n",
    "        new_theta_0=theta_0+alpha*(Y_train[i]-forward(theta_0,X_train[i],theta_1))\n",
    "        theta_0=new_theta_0\n",
    "        theta_1=new_theta_1\n",
    "        #compute loss \n",
    "        loss=(((forward(theta_0,X_train[i],theta_1))-Y_train[i])**2)\n",
    "        print(\"loss\"+str(i),loss)\n",
    "        loss_all.append(loss)\n",
    "        cost=cost+loss\n",
    "    #compute cost\n",
    "    cost=0.5*(cost/len(X_train))\n",
    "    return new_theta_1,loss_all,cost,new_theta_0"
   ]
  },
  {
   "cell_type": "code",
   "execution_count": 20,
   "metadata": {},
   "outputs": [
    {
     "name": "stdout",
     "output_type": "stream",
     "text": [
      "loss0 61.465599999999945\n",
      "loss1 0.4624000000000093\n",
      "loss2 3.7094760000000346\n",
      "loss3 2.0370254355359845\n",
      "loss4 0.3069493295448108\n",
      "loss5 92391.26339722892\n",
      "loss6 961.1454652419042\n",
      "loss7 119.82749003846976\n",
      "loss8 0.011778667198288474\n",
      "loss9 429.6985893359421\n",
      "loss10 2920.1917762463613\n",
      "loss11 6.491080645363573\n",
      "loss12 15.380865266360594\n",
      "loss13 6.950798785154166\n",
      "loss14 65.05978399889861\n",
      "loss15 3.0227186780414788\n",
      "loss16 2.7121301232473964\n",
      "loss17 8.065994372156409\n",
      "loss18 0.001601438324035945\n",
      "loss19 249.55131002135795\n",
      "loss20 341.7633347421604\n",
      "loss21 946.4590466798661\n",
      "loss22 11571.756369504896\n",
      "loss23 2251.661005897786\n",
      "loss24 620.2704181104734\n",
      "loss25 2208.91705494016\n",
      "loss26 1.8580861795217456\n",
      "loss27 0.16138681553092238\n",
      "loss28 9066.158266578435\n",
      "loss29 23400.86116355662\n",
      "loss30 5.048709793414476e-29\n",
      "loss31 3.5313926399999898\n",
      "loss32 16.934871039999983\n",
      "loss33 43680.20279403743\n",
      "loss34 14785.266157610042\n",
      "loss35 251.9023543807181\n",
      "loss36 30.56670213553702\n",
      "loss37 17.19784853264968\n",
      "loss38 0.1780725386793211\n",
      "loss39 0.014827424422807947\n",
      "loss40 2.9128963808485357\n",
      "loss41 1.2095474053252497\n",
      "cost 2457.7040455712377\n"
     ]
    }
   ],
   "source": [
    "theta_1,loss,cost,theta_0=optimize(X_train,Y_train,theta_1,alpha,theta_0,cost)\n",
    "print(\"cost\",cost)\n"
   ]
  },
  {
   "cell_type": "code",
   "execution_count": 21,
   "metadata": {},
   "outputs": [
    {
     "data": {
      "text/plain": [
       "[<matplotlib.lines.Line2D at 0x28e7fe6f5f8>]"
      ]
     },
     "execution_count": 21,
     "metadata": {},
     "output_type": "execute_result"
    },
    {
     "data": {
      "image/png": "[encoded data removed]",
      "text/plain": [
       "<Figure size 432x288 with 1 Axes>"
      ]
     },
     "metadata": {},
     "output_type": "display_data"
    }
   ],
   "source": [
    "#plot loss#plot lo \n",
    "plt.plot(loss[0:len(loss)], 'ro-')"
   ]
  },
  {
   "cell_type": "code",
   "execution_count": 22,
   "metadata": {},
   "outputs": [],
   "source": [
    "# Make Predictions\n",
    "h_theta=[]\n",
    "for i in X_train:\n",
    "    h_theta.append(theta_1*i+theta_0)"
   ]
  },
  {
   "cell_type": "code",
   "execution_count": 23,
   "metadata": {},
   "outputs": [
    {
     "data": {
      "text/plain": [
       "<matplotlib.collections.PathCollection at 0x28e7fea47b8>"
      ]
     },
     "execution_count": 23,
     "metadata": {},
     "output_type": "execute_result"
    },
    {
     "data": {
      "image/png": "[encoded data removed]",
      "text/plain": [
       "<Figure size 432x288 with 1 Axes>"
      ]
     },
     "metadata": {},
     "output_type": "display_data"
    }
   ],
   "source": [
    "# plot line\n",
    "plt.plot(X_train[0:len(X_train)], h_theta[0:len(h_theta)], 'ro-')\n",
    "plt.scatter(X_train,Y_train)"
   ]
  },
  {
   "cell_type": "code",
   "execution_count": null,
   "metadata": {},
   "outputs": [],
   "source": []
  }
 ],
 "metadata": {
  "kernelspec": {
   "display_name": "Python 3",
   "language": "python",
   "name": "python3"
  },
  "language_info": {
   "codemirror_mode": {
    "name": "ipython",
    "version": 3
   },
   "file_extension": ".py",
   "mimetype": "text/x-python",
   "name": "python",
   "nbconvert_exporter": "python",
   "pygments_lexer": "ipython3",
   "version": "3.5.0"
  }
 },
 "nbformat": 4,
 "nbformat_minor": 2
}
